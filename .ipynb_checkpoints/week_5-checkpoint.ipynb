{
 "cells": [
  {
   "cell_type": "code",
   "execution_count": 1,
   "id": "bd1f35fd",
   "metadata": {},
   "outputs": [
    {
     "name": "stdout",
     "output_type": "stream",
     "text": [
      "z\n",
      "True\n"
     ]
    }
   ],
   "source": [
    "word = input(\"\")\n",
    "forbidden_word = [\"f\",\"s\",\"d\",\"c\",\"b\"]\n",
    "if word in forbidden_word:\n",
    "    print(\"This is a forbidden word\")\n",
    "elif word not in forbidden_word:\n",
    "    print(\"True\")\n",
    "else:\n",
    "    print(\"error\")\n",
    "x = forbidden_word.count(word)"
   ]
  },
  {
   "cell_type": "code",
   "execution_count": 1,
   "id": "1cbcd3f0",
   "metadata": {},
   "outputs": [
    {
     "name": "stdout",
     "output_type": "stream",
     "text": [
      "Choose even or odd\n",
      "John's turn 1\n",
      "Jill's turn 7\n",
      "John is the winner\n"
     ]
    }
   ],
   "source": [
    "#project 3\n",
    "x = print(\"Choose even or odd\")\n",
    "first_friend = int(input(\"John's turn \"))\n",
    "second_friend = int(input(\"Jill's turn \"))\n",
    "total = first_friend + second_friend\n",
    "if total % 2 == 0:\n",
    "    print(\"John is the winner\")\n",
    "else:\n",
    "    print (\"Jill is the winner\")"
   ]
  },
  {
   "cell_type": "code",
   "execution_count": null,
   "id": "e141bce3",
   "metadata": {},
   "outputs": [],
   "source": []
  }
 ],
 "metadata": {
  "kernelspec": {
   "display_name": "Python 3 (ipykernel)",
   "language": "python",
   "name": "python3"
  },
  "language_info": {
   "codemirror_mode": {
    "name": "ipython",
    "version": 3
   },
   "file_extension": ".py",
   "mimetype": "text/x-python",
   "name": "python",
   "nbconvert_exporter": "python",
   "pygments_lexer": "ipython3",
   "version": "3.9.7"
  }
 },
 "nbformat": 4,
 "nbformat_minor": 5
}

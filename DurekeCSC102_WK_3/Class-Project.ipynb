{
 "cells": [
  {
   "cell_type": "markdown",
   "metadata": {},
   "source": [
    "# Project 1"
   ]
  },
  {
   "cell_type": "markdown",
   "metadata": {},
   "source": [
    "### Pseudocode to get difference between a given number and 17"
   ]
  },
  {
   "cell_type": "markdown",
   "metadata": {},
   "source": [
    "   ##### START\n",
    "   ##### INPUT number X\n",
    "   ##### COMPUTE Y = X-17\n",
    "   ##### PRINT Y\n",
    "   ##### IF X-17>0  COMPUTE Z = Y*2\n",
    "   ##### PRINT Z\n",
    "   ##### ELSE PRINT ABS(Y)\n",
    "   ##### END IF\n",
    "   ##### END"
   ]
  },
  {
   "cell_type": "markdown",
   "metadata": {},
   "source": [
    "![images](images/pic1.png)"
   ]
  },
  {
   "cell_type": "markdown",
   "metadata": {},
   "source": [
    "### Python Program to get difference between a number and 17"
   ]
  },
  {
   "cell_type": "code",
   "execution_count": 24,
   "metadata": {},
   "outputs": [
    {
     "name": "stdout",
     "output_type": "stream",
     "text": [
      "Kindly input a given number = 16\n",
      "-1\n",
      "1\n"
     ]
    }
   ],
   "source": [
    "num = int(input(\"Kindly input a given number = \"))\n",
    "x = int(num-17)\n",
    "print (x)\n",
    "y = abs(x)\n",
    "if x >= 0:\n",
    "    print(x*2)\n",
    "else:\n",
    "    print(abs(x))"
   ]
  },
  {
   "cell_type": "markdown",
   "metadata": {},
   "source": [
    "# Project 2"
   ]
  },
  {
   "cell_type": "markdown",
   "metadata": {},
   "source": [
    "### Pseudocode to calculate the sum of three numbers with a condition"
   ]
  },
  {
   "cell_type": "markdown",
   "metadata": {},
   "source": [
    "##### START\n",
    "##### INPUT X,Y,Z\n",
    "##### COMPUTE A = X+Y+Z\n",
    "##### PRINT A\n",
    "##### IF X=Y=Z\n",
    "##### PRINT (3*A)\n",
    "##### END IF\n",
    "##### END"
   ]
  },
  {
   "cell_type": "markdown",
   "metadata": {},
   "source": [
    "![images](images/pic2.png)"
   ]
  },
  {
   "cell_type": "markdown",
   "metadata": {},
   "source": [
    "### Python Program to calculate the sum of three given numbers with a condition"
   ]
  },
  {
   "cell_type": "code",
   "execution_count": 39,
   "metadata": {},
   "outputs": [
    {
     "name": "stdout",
     "output_type": "stream",
     "text": [
      "Kindly input a number X = 12\n",
      "Kindly input a number Y = 12\n",
      "Kindly input a number Z = 12\n",
      "108\n"
     ]
    }
   ],
   "source": [
    "X  = int(input(\"Kindly input a number X = \"))\n",
    "Y  = int(input(\"Kindly input a number Y = \"))\n",
    "Z  = int(input(\"Kindly input a number Z = \"))\n",
    "A = (X+Y+Z)\n",
    "if X == Y == Z:\n",
    "    print(3*A)\n",
    "else:\n",
    "    print(A)"
   ]
  },
  {
   "cell_type": "markdown",
   "metadata": {},
   "source": [
    "# Project 3"
   ]
  },
  {
   "cell_type": "markdown",
   "metadata": {},
   "source": [
    "### Pseudocode to return true if integer values are equal or sum or difference = 5"
   ]
  },
  {
   "cell_type": "markdown",
   "metadata": {},
   "source": [
    "##### START\n",
    "##### INPUT X,Y\n",
    "##### COMPUTE A = X+Y\n",
    "##### COMPUTE B = X-Y\n",
    "##### IF A = 5\n",
    "##### PRINT \"True\"\n",
    "##### ELSE PRINT \"False\"\n",
    "##### IF B = 5\n",
    "##### PRINT \"True\"\n",
    "##### ELSE PRINT \"False\" \n",
    "##### IF X=Y\n",
    "##### PRINT \"True\"\n",
    "##### ELSE PRINT \"False\"\n",
    "##### END IF\n",
    "##### END"
   ]
  },
  {
   "cell_type": "markdown",
   "metadata": {},
   "source": [
    "![images](images/pic3.png)"
   ]
  },
  {
   "cell_type": "markdown",
   "metadata": {},
   "source": [
    "### Python Program to return true if integer values are equal or sum or difference = 5"
   ]
  },
  {
   "cell_type": "code",
   "execution_count": 5,
   "metadata": {},
   "outputs": [
    {
     "name": "stdout",
     "output_type": "stream",
     "text": [
      "Kindly input a number X = 3\n",
      "Kindly input a number Y = 2\n",
      "True\n"
     ]
    }
   ],
   "source": [
    "X  = int(input(\"Kindly input a number X = \"))\n",
    "Y  = int(input(\"Kindly input a number Y = \"))\n",
    "A = X + Y\n",
    "B = X - Y\n",
    "if A == 5:\n",
    "    print(\"True\")\n",
    "elif B == 5:\n",
    "    print (\"True\")\n",
    "elif X == Y:\n",
    "    print (\"True\")\n",
    "else:\n",
    "    print(\"False\")"
   ]
  },
  {
   "cell_type": "markdown",
   "metadata": {},
   "source": [
    "# Project 4"
   ]
  },
  {
   "cell_type": "markdown",
   "metadata": {},
   "source": [
    "### Algorithm to sort three integers without using conditional statements and loops"
   ]
  },
  {
   "cell_type": "markdown",
   "metadata": {},
   "source": [
    "##### START\n",
    "##### INPUT X\n",
    "##### INPUT Y\n",
    "##### INPUT Z\n",
    "##### COMPUTE MAX (X,Y,Z)\n",
    "##### PRINT MAX\n",
    "##### COMPUTE MIN (X,Y,Z)\n",
    "##### PRINT MIN\n",
    "##### COMPUTE MIDDLE(X,Y,Z)\n",
    "##### PRINT MIDDLE\n",
    "##### END"
   ]
  },
  {
   "cell_type": "markdown",
   "metadata": {},
   "source": [
    "![images](images/pic4.png)"
   ]
  },
  {
   "cell_type": "markdown",
   "metadata": {},
   "source": [
    "### Python Program to sort three integers without using conditional statements and loops"
   ]
  },
  {
   "cell_type": "code",
   "execution_count": 39,
   "metadata": {},
   "outputs": [
    {
     "name": "stdout",
     "output_type": "stream",
     "text": [
      "Kindly input a number X = 9\n",
      "Kindly input a number Y = 6\n",
      "Kindly input a number Z=  3\n",
      "3 is the minimum number\n",
      "6 is the middle number\n",
      "9 is the maximum number\n"
     ]
    }
   ],
   "source": [
    "def maximum(X,Y,Z):\n",
    "    num = max(X,Y,Z)\n",
    "    return num\n",
    "\n",
    "def minimum(X,Y,Z):\n",
    "    num = min(X,Y,Z)\n",
    "    return num\n",
    "\n",
    "MID = (X+Y+Z) - max(X,Y,Z) - min(X,Y,Z)\n",
    "\n",
    "X  = int(input(\"Kindly input a number X = \"))\n",
    "Y  = int(input(\"Kindly input a number Y = \"))\n",
    "Z  = int(input(\"Kindly input a number Z=  \"))\n",
    "\n",
    "\n",
    "print(f'{minimum(X,Y,Z)} is the minimum number')\n",
    "print(f'{(MID)} is the middle number')\n",
    "print(f'{maximum(X,Y,Z)} is the maximum number')\n"
   ]
  },
  {
   "cell_type": "markdown",
   "metadata": {},
   "source": [
    "# Project 5"
   ]
  },
  {
   "cell_type": "markdown",
   "metadata": {},
   "source": [
    "### Algorithm that takes positive integer and returns the sum of the cube of all positive integers smaller than the specified number"
   ]
  },
  {
   "cell_type": "markdown",
   "metadata": {},
   "source": [
    "##### START\n",
    "##### INPUT X\n",
    "##### PRINT (X-1,X-2,X-3,...X-(X+1)\n",
    "##### PRINT ((X-1)^3,(X-2)^3,(X-3)^3,...(X-(X+1))^3)\n",
    "##### PRINT ((X-1)^3 + (X-2)^3 + (X-3)^3 + ... + (X-(X+1))^3)\n",
    "##### END"
   ]
  },
  {
   "cell_type": "markdown",
   "metadata": {},
   "source": [
    "![images](images/pic5.png)"
   ]
  },
  {
   "cell_type": "markdown",
   "metadata": {},
   "source": [
    "### Python Program to take a positive integer and returns the sum of the cube of all positive integers smaller than the specified number"
   ]
  },
  {
   "cell_type": "code",
   "execution_count": 43,
   "metadata": {},
   "outputs": [
    {
     "name": "stdout",
     "output_type": "stream",
     "text": [
      "Kindly input a number X = 6\n",
      "Sum of cubes smaller than the specified number:  225\n"
     ]
    }
   ],
   "source": [
    "X  = int(input(\"Kindly input a number X = \"))\n",
    "def sum_of_cubes(n):\n",
    " n -= 1\n",
    " total = 0\n",
    " while n > 0:\n",
    "   total += n * n * n\n",
    "   n -= 1\n",
    " return total\n",
    "print(\"Sum of cubes smaller than the specified number: \",sum_of_cubes(X))\n"
   ]
  }
 ],
 "metadata": {
  "kernelspec": {
   "display_name": "Python 3",
   "language": "python",
   "name": "python3"
  },
  "language_info": {
   "codemirror_mode": {
    "name": "ipython",
    "version": 3
   },
   "file_extension": ".py",
   "mimetype": "text/x-python",
   "name": "python",
   "nbconvert_exporter": "python",
   "pygments_lexer": "ipython3",
   "version": "3.8.3"
  }
 },
 "nbformat": 4,
 "nbformat_minor": 4
}
